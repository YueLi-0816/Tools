{
 "cells": [
  {
   "cell_type": "code",
   "execution_count": 2,
   "id": "3801742d",
   "metadata": {},
   "outputs": [
    {
     "name": "stdout",
     "output_type": "stream",
     "text": [
      "Collecting PyPDF2\n",
      "  Obtaining dependency information for PyPDF2 from https://files.pythonhosted.org/packages/8e/5e/c86a5643653825d3c913719e788e41386bee415c2b87b4f955432f2de6b2/pypdf2-3.0.1-py3-none-any.whl.metadata\n",
      "  Downloading pypdf2-3.0.1-py3-none-any.whl.metadata (6.8 kB)\n",
      "Downloading pypdf2-3.0.1-py3-none-any.whl (232 kB)\n",
      "   ---------------------------------------- 0.0/232.6 kB ? eta -:--:--\n",
      "   - -------------------------------------- 10.2/232.6 kB ? eta -:--:--\n",
      "   ----- --------------------------------- 30.7/232.6 kB 435.7 kB/s eta 0:00:01\n",
      "   ------------ -------------------------- 71.7/232.6 kB 660.6 kB/s eta 0:00:01\n",
      "   ----------------------------- ---------- 174.1/232.6 kB 1.1 MB/s eta 0:00:01\n",
      "   ---------------------------------------- 232.6/232.6 kB 1.2 MB/s eta 0:00:00\n",
      "Installing collected packages: PyPDF2\n",
      "Successfully installed PyPDF2-3.0.1\n"
     ]
    }
   ],
   "source": [
    "!pip install PyPDF2"
   ]
  },
  {
   "cell_type": "code",
   "execution_count": 3,
   "id": "9aae352a",
   "metadata": {},
   "outputs": [],
   "source": [
    "from PyPDF2 import PdfMerger  # or use pypdf"
   ]
  },
  {
   "cell_type": "code",
   "execution_count": 4,
   "id": "c5da3b0d",
   "metadata": {},
   "outputs": [],
   "source": [
    "merger = PdfMerger()\n",
    "merger.append(\"passport cover.pdf\")\n",
    "merger.append(\"passport infomation page.pdf\")\n",
    "merger.write(\"passport.pdf\")\n",
    "merger.close()"
   ]
  },
  {
   "cell_type": "code",
   "execution_count": null,
   "id": "c940a8ff",
   "metadata": {},
   "outputs": [],
   "source": []
  }
 ],
 "metadata": {
  "kernelspec": {
   "display_name": "Python 3 (ipykernel)",
   "language": "python",
   "name": "python3"
  },
  "language_info": {
   "codemirror_mode": {
    "name": "ipython",
    "version": 3
   },
   "file_extension": ".py",
   "mimetype": "text/x-python",
   "name": "python",
   "nbconvert_exporter": "python",
   "pygments_lexer": "ipython3",
   "version": "3.11.5"
  }
 },
 "nbformat": 4,
 "nbformat_minor": 5
}
